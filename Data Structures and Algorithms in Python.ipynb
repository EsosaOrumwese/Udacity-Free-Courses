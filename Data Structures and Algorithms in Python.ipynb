{
 "cells": [
  {
   "cell_type": "markdown",
   "metadata": {},
   "source": [
    "# Data Structures and Algorithms\n",
    "Check out Notion for supplementary notes. Course can be found [here](https://www.udacity.com/course/data-structures-and-algorithms-in-python--ud513).\n",
    "\n",
    "![cheatsheet](./big_o_cheatsheet.png)\n",
    "\n",
    "## 1. List-Based Collections\n",
    "### Linked List\n",
    "\n",
    "A linked list is a _data structure_ used for storing a sequence of elements. It's data with some structure (the sequence).\n",
    "\n",
    "![](https://cdn.programiz.com/sites/tutorial2program/files/linked-list-concept_0.png)\n",
    "\n",
    "We'll implement linked lists which support the following operations:\n",
    "\n",
    "- Create a list with given elements\n",
    "- Display the elements in a list\n",
    "- Find the number of elements in a list\n",
    "- Retrieve the element at a given position\n",
    "- Add or remove element(s)\n",
    "- etc."
   ]
  },
  {
   "cell_type": "markdown",
   "metadata": {},
   "source": [
    "### A Quick Primer on Classes in Python\n",
    "\n",
    "Let's create a class for it. A class is a blueprint for creating objects. "
   ]
  },
  {
   "cell_type": "code",
   "execution_count": 1,
   "metadata": {},
   "outputs": [],
   "source": [
    "class Node():\n",
    "      pass"
   ]
  },
  {
   "cell_type": "markdown",
   "metadata": {},
   "source": [
    "We can create an object with nothing in it."
   ]
  },
  {
   "cell_type": "code",
   "execution_count": 2,
   "metadata": {},
   "outputs": [
    {
     "data": {
      "text/plain": [
       "<__main__.Node at 0x21c19e68f40>"
      ]
     },
     "execution_count": 2,
     "metadata": {},
     "output_type": "execute_result"
    }
   ],
   "source": [
    "Node()"
   ]
  },
  {
   "cell_type": "markdown",
   "metadata": {},
   "source": [
    "We just created an object of the class `Node`. However, we have to have a way to access the object. We can do so by creating a variable."
   ]
  },
  {
   "cell_type": "code",
   "execution_count": 3,
   "metadata": {},
   "outputs": [],
   "source": [
    "node1 = Node()"
   ]
  },
  {
   "cell_type": "code",
   "execution_count": 4,
   "metadata": {},
   "outputs": [
    {
     "data": {
      "text/plain": [
       "<__main__.Node at 0x21c19390400>"
      ]
     },
     "execution_count": 4,
     "metadata": {},
     "output_type": "execute_result"
    }
   ],
   "source": [
    "node1"
   ]
  },
  {
   "cell_type": "markdown",
   "metadata": {},
   "source": [
    "The *variable* `node1` holds a reference, the object, and can be used to retrieve the object. We can call the `Node()` again, it creates a new object."
   ]
  },
  {
   "cell_type": "code",
   "execution_count": 5,
   "metadata": {},
   "outputs": [],
   "source": [
    "node2 = Node()"
   ]
  },
  {
   "cell_type": "code",
   "execution_count": 6,
   "metadata": {},
   "outputs": [
    {
     "data": {
      "text/plain": [
       "<__main__.Node at 0x21c19390040>"
      ]
     },
     "execution_count": 6,
     "metadata": {},
     "output_type": "execute_result"
    }
   ],
   "source": [
    "node2"
   ]
  },
  {
   "cell_type": "markdown",
   "metadata": {},
   "source": [
    "You can tell that the objects are different because they are at different addresses in the RAM (more on that later).\n",
    "\n",
    "We can have multiple variables pointing to the same object."
   ]
  },
  {
   "cell_type": "code",
   "execution_count": 7,
   "metadata": {},
   "outputs": [],
   "source": [
    "node3 = node1"
   ]
  },
  {
   "cell_type": "code",
   "execution_count": 8,
   "metadata": {},
   "outputs": [
    {
     "data": {
      "text/plain": [
       "<__main__.Node at 0x21c19390400>"
      ]
     },
     "execution_count": 8,
     "metadata": {},
     "output_type": "execute_result"
    }
   ],
   "source": [
    "node3"
   ]
  },
  {
   "cell_type": "markdown",
   "metadata": {},
   "source": [
    "Our object isn't doing much. Let's give it the ability to store a value. First, we'll store the constant value 0. We can do this using a ***constructor***."
   ]
  },
  {
   "cell_type": "code",
   "execution_count": 9,
   "metadata": {},
   "outputs": [],
   "source": [
    "class Node():\n",
    "      def __init__(self):\n",
    "            self.data = 0"
   ]
  },
  {
   "cell_type": "markdown",
   "metadata": {},
   "source": [
    "Two things to note:\n",
    "* The double underscores + `init` i.e. `__init__`\n",
    "* The self (a replacement for `this`)\n",
    "* `self.data` creates a property called `data`. We can name a property anything we wish (`val`, `number`, `the_thing_inside` etc. )"
   ]
  },
  {
   "cell_type": "code",
   "execution_count": 10,
   "metadata": {},
   "outputs": [],
   "source": [
    "node4 = Node()"
   ]
  },
  {
   "cell_type": "markdown",
   "metadata": {},
   "source": [
    "So internally what's happening is that \n",
    "\n",
    "- Python first creates an empty object, \n",
    "- stores the reference to the empty object in an temporary variable called `self`,\n",
    "- calls the `__init__` function with `self` as the argument, which then sets the property `data` on the created object with the value 0."
   ]
  },
  {
   "cell_type": "code",
   "execution_count": 11,
   "metadata": {},
   "outputs": [
    {
     "data": {
      "text/plain": [
       "0"
      ]
     },
     "execution_count": 11,
     "metadata": {},
     "output_type": "execute_result"
    }
   ],
   "source": [
    "node4.data"
   ]
  },
  {
   "cell_type": "markdown",
   "metadata": {},
   "source": [
    "And we can change the value inside the variable."
   ]
  },
  {
   "cell_type": "code",
   "execution_count": 12,
   "metadata": {},
   "outputs": [],
   "source": [
    "node4.data = 10"
   ]
  },
  {
   "cell_type": "code",
   "execution_count": 13,
   "metadata": {},
   "outputs": [
    {
     "data": {
      "text/plain": [
       "10"
      ]
     },
     "execution_count": 13,
     "metadata": {},
     "output_type": "execute_result"
    }
   ],
   "source": [
    "node4.data"
   ]
  },
  {
   "cell_type": "markdown",
   "metadata": {},
   "source": [
    "Let's create nodes with the values 2, 3 and 5"
   ]
  },
  {
   "cell_type": "code",
   "execution_count": 14,
   "metadata": {},
   "outputs": [],
   "source": [
    "node1 = Node()\n",
    "node1.data = 2"
   ]
  },
  {
   "cell_type": "code",
   "execution_count": 15,
   "metadata": {},
   "outputs": [],
   "source": [
    "node2 = Node()\n",
    "node2.data = 3"
   ]
  },
  {
   "cell_type": "code",
   "execution_count": 16,
   "metadata": {},
   "outputs": [],
   "source": [
    "node3 = Node()\n",
    "node3.data = 5"
   ]
  },
  {
   "cell_type": "code",
   "execution_count": 17,
   "metadata": {},
   "outputs": [
    {
     "data": {
      "text/plain": [
       "(2, 3, 5)"
      ]
     },
     "execution_count": 17,
     "metadata": {},
     "output_type": "execute_result"
    }
   ],
   "source": [
    "node1.data, node2.data, node3.data"
   ]
  },
  {
   "cell_type": "markdown",
   "metadata": {},
   "source": [
    "While this is OK, there's an easier way to do it."
   ]
  },
  {
   "cell_type": "code",
   "execution_count": 19,
   "metadata": {},
   "outputs": [],
   "source": [
    "class Node():\n",
    "      def __init__(self, a_number):\n",
    "            self.data = a_number\n",
    "            self.next = None"
   ]
  },
  {
   "cell_type": "code",
   "execution_count": 20,
   "metadata": {},
   "outputs": [],
   "source": [
    "node1 = Node(2)\n",
    "node2 = Node(3)\n",
    "node3 = Node(5)"
   ]
  },
  {
   "cell_type": "code",
   "execution_count": 21,
   "metadata": {},
   "outputs": [
    {
     "data": {
      "text/plain": [
       "(2, 3, 5)"
      ]
     },
     "execution_count": 21,
     "metadata": {},
     "output_type": "execute_result"
    }
   ],
   "source": [
    "node1.data, node2.data, node3.data"
   ]
  },
  {
   "cell_type": "markdown",
   "metadata": {},
   "source": [
    "Now, let's define a class for our linked list."
   ]
  },
  {
   "cell_type": "code",
   "execution_count": 22,
   "metadata": {},
   "outputs": [],
   "source": [
    "class LinkedList():\n",
    "      def __init__(self):\n",
    "            self.head = None"
   ]
  },
  {
   "cell_type": "code",
   "execution_count": 24,
   "metadata": {},
   "outputs": [],
   "source": [
    "list1 = LinkedList()"
   ]
  },
  {
   "cell_type": "code",
   "execution_count": 25,
   "metadata": {},
   "outputs": [],
   "source": [
    "list1.head = Node(2)"
   ]
  },
  {
   "cell_type": "code",
   "execution_count": 26,
   "metadata": {},
   "outputs": [],
   "source": [
    "list1.head.next = Node(3)"
   ]
  },
  {
   "cell_type": "code",
   "execution_count": 27,
   "metadata": {},
   "outputs": [],
   "source": [
    "list1.head.next.next = Node(4)"
   ]
  },
  {
   "cell_type": "code",
   "execution_count": 28,
   "metadata": {},
   "outputs": [
    {
     "data": {
      "text/plain": [
       "(2, 3, 4)"
      ]
     },
     "execution_count": 28,
     "metadata": {},
     "output_type": "execute_result"
    }
   ],
   "source": [
    "list1.head.data, list1.head.next.data, list1.head.next.next.data"
   ]
  },
  {
   "cell_type": "markdown",
   "metadata": {},
   "source": [
    "![](https://cdn.programiz.com/sites/tutorial2program/files/linked-list-concept_0.png)"
   ]
  },
  {
   "cell_type": "code",
   "execution_count": 29,
   "metadata": {},
   "outputs": [
    {
     "data": {
      "text/plain": [
       "(<__main__.Node at 0x21c19525b80>,\n",
       " <__main__.Node at 0x21c19525ac0>,\n",
       " <__main__.Node at 0x21c195250d0>)"
      ]
     },
     "execution_count": 29,
     "metadata": {},
     "output_type": "execute_result"
    }
   ],
   "source": [
    "list1.head, list1.head.next, list1.head.next.next"
   ]
  },
  {
   "cell_type": "markdown",
   "metadata": {},
   "source": [
    "While it's OK to set value like this, we can add a couple of arguments."
   ]
  },
  {
   "cell_type": "code",
   "execution_count": 30,
   "metadata": {},
   "outputs": [],
   "source": [
    "class LinkedList():\n",
    "      def __init__(self):\n",
    "            self.head = None\n",
    "            \n",
    "      def append(self, value):\n",
    "            if self.head is None:\n",
    "                  self.head = Node(value)\n",
    "            else: \n",
    "                  current_node = self.head\n",
    "                  while current_node.next is not None:\n",
    "                        current_node = current_node.next\n",
    "                  current_node.next = Node(value)"
   ]
  },
  {
   "cell_type": "code",
   "execution_count": 31,
   "metadata": {},
   "outputs": [],
   "source": [
    "list2 = LinkedList()\n",
    "list2.append(2)\n",
    "list2.append(3)\n",
    "list2.append(5)"
   ]
  },
  {
   "cell_type": "code",
   "execution_count": 32,
   "metadata": {},
   "outputs": [
    {
     "data": {
      "text/plain": [
       "(2, 3, 5)"
      ]
     },
     "execution_count": 32,
     "metadata": {},
     "output_type": "execute_result"
    }
   ],
   "source": [
    "list2.head.data, list2.head.next.data, list2.head.next.next.data"
   ]
  },
  {
   "cell_type": "markdown",
   "metadata": {},
   "source": [
    "Next, let's add a method to print the value in a list."
   ]
  },
  {
   "cell_type": "code",
   "execution_count": 33,
   "metadata": {},
   "outputs": [],
   "source": [
    "class LinkedList():\n",
    "      def __init__(self):\n",
    "            self.head = None\n",
    "            \n",
    "      def append(self, value):\n",
    "            if self.head is None:\n",
    "                  self.head = Node(value)\n",
    "            else: \n",
    "                  current_node = self.head\n",
    "                  while current_node.next is not None:\n",
    "                        current_node = current_node.next\n",
    "                  current_node.next = Node(value)\n",
    "                  \n",
    "      def show_elements(self):\n",
    "            current = self.head\n",
    "            while current is not None:\n",
    "                  print(current.data)\n",
    "                  current = current.next"
   ]
  },
  {
   "cell_type": "code",
   "execution_count": 34,
   "metadata": {},
   "outputs": [],
   "source": [
    "list2 = LinkedList()\n",
    "list2.append(2)\n",
    "list2.append(3)\n",
    "list2.append(5)"
   ]
  },
  {
   "cell_type": "code",
   "execution_count": 37,
   "metadata": {},
   "outputs": [
    {
     "name": "stdout",
     "output_type": "stream",
     "text": [
      "2\n",
      "3\n",
      "5\n"
     ]
    }
   ],
   "source": [
    "list2.show_elements()"
   ]
  },
  {
   "cell_type": "markdown",
   "metadata": {},
   "source": [
    "Let's add a couple of more functions: `length` and `get_element` to get an element at a specific position."
   ]
  },
  {
   "cell_type": "code",
   "execution_count": 38,
   "metadata": {},
   "outputs": [],
   "source": [
    "class LinkedList():\n",
    "      def __init__(self):\n",
    "            self.head = None\n",
    "            \n",
    "      def append(self, value):\n",
    "            if self.head is None:\n",
    "                  self.head = Node(value)\n",
    "            else: \n",
    "                  current_node = self.head\n",
    "                  while current_node.next is not None:\n",
    "                        current_node = current_node.next\n",
    "                  current_node.next = Node(value)\n",
    "                  \n",
    "      def show_elements(self):\n",
    "            current = self.head\n",
    "            while current is not None:\n",
    "                  print(current.data)\n",
    "                  current = current.next\n",
    "                  \n",
    "      def length(self):\n",
    "            result = 0\n",
    "            current = self.head\n",
    "            while current is not None:\n",
    "                  result += 1\n",
    "                  current = current.next\n",
    "            return result\n",
    "      \n",
    "      def get_element(self, position):\n",
    "            i = 0\n",
    "            current = self.head\n",
    "            while current is not None:\n",
    "                  if i == position:\n",
    "                        return current.data\n",
    "                  current = current.next\n",
    "                  i += 1\n",
    "            return None"
   ]
  },
  {
   "cell_type": "code",
   "execution_count": 39,
   "metadata": {},
   "outputs": [],
   "source": [
    "list2 = LinkedList()\n",
    "list2.append(2)\n",
    "list2.append(3)\n",
    "list2.append(5)\n",
    "list2.append(9)"
   ]
  },
  {
   "cell_type": "code",
   "execution_count": 40,
   "metadata": {},
   "outputs": [
    {
     "data": {
      "text/plain": [
       "4"
      ]
     },
     "execution_count": 40,
     "metadata": {},
     "output_type": "execute_result"
    }
   ],
   "source": [
    "list2.length()"
   ]
  },
  {
   "cell_type": "code",
   "execution_count": 41,
   "metadata": {},
   "outputs": [
    {
     "data": {
      "text/plain": [
       "2"
      ]
     },
     "execution_count": 41,
     "metadata": {},
     "output_type": "execute_result"
    }
   ],
   "source": [
    "list2.get_element(0)"
   ]
  },
  {
   "cell_type": "code",
   "execution_count": 43,
   "metadata": {},
   "outputs": [
    {
     "name": "stdout",
     "output_type": "stream",
     "text": [
      "2\n",
      "3\n",
      "5\n",
      "9\n"
     ]
    }
   ],
   "source": [
    "list2.show_elements()"
   ]
  },
  {
   "cell_type": "code",
   "execution_count": 44,
   "metadata": {},
   "outputs": [
    {
     "data": {
      "text/plain": [
       "5"
      ]
     },
     "execution_count": 44,
     "metadata": {},
     "output_type": "execute_result"
    }
   ],
   "source": [
    "list2.get_element(2)"
   ]
  },
  {
   "cell_type": "markdown",
   "metadata": {},
   "source": [
    "Given a list of size `N`, the the number of statements executed for each of the steps:\n",
    "\n",
    "- `append`: N steps\n",
    "- `length`: N steps\n",
    "- `get_element`: N steps\n",
    "- `show_element`: N steps"
   ]
  },
  {
   "cell_type": "markdown",
   "metadata": {},
   "source": [
    "### Reversing a Linked List - Solution\n",
    "\n",
    "Here's a simple program to reverse a linked list."
   ]
  },
  {
   "cell_type": "code",
   "execution_count": 45,
   "metadata": {},
   "outputs": [],
   "source": [
    "def reverse(l):\n",
    "      if l.head is None:\n",
    "            return\n",
    "      \n",
    "      current_node = l.head\n",
    "      prev_node = None\n",
    "      \n",
    "      while current_node is not None:\n",
    "            # track the next node\n",
    "            next_node = current_node.next\n",
    "            \n",
    "            # modify the current node\n",
    "            current_node.next = prev_node\n",
    "            \n",
    "            # updaate prev and current\n",
    "            prev_node = current_node\n",
    "            current_node = next_node\n",
    "      \n",
    "      l.head = prev_node"
   ]
  },
  {
   "cell_type": "code",
   "execution_count": 46,
   "metadata": {},
   "outputs": [],
   "source": [
    "list2 = LinkedList()\n",
    "list2.append(2)\n",
    "list2.append(3)\n",
    "list2.append(5)\n",
    "list2.append(9)"
   ]
  },
  {
   "cell_type": "code",
   "execution_count": 47,
   "metadata": {},
   "outputs": [
    {
     "name": "stdout",
     "output_type": "stream",
     "text": [
      "2\n",
      "3\n",
      "5\n",
      "9\n"
     ]
    }
   ],
   "source": [
    "list2.show_elements()"
   ]
  },
  {
   "cell_type": "code",
   "execution_count": 48,
   "metadata": {},
   "outputs": [],
   "source": [
    "reverse(list2)"
   ]
  },
  {
   "cell_type": "code",
   "execution_count": 49,
   "metadata": {},
   "outputs": [
    {
     "name": "stdout",
     "output_type": "stream",
     "text": [
      "9\n",
      "5\n",
      "3\n",
      "2\n"
     ]
    }
   ],
   "source": [
    "list2.show_elements()"
   ]
  },
  {
   "cell_type": "code",
   "execution_count": 1,
   "metadata": {},
   "outputs": [],
   "source": [
    "import datetime as dt"
   ]
  },
  {
   "cell_type": "code",
   "execution_count": 21,
   "metadata": {},
   "outputs": [],
   "source": [
    "# Define a new class name 'Member'\n",
    "class Member:\n",
    "      ''' Create a new member. '''\n",
    "      free_days = 90 # a class variable.\n",
    "      \n",
    "      def __init__(self, username, fullname):\n",
    "            # Define attributes and give them values\n",
    "            self.username = username\n",
    "            self.fullname = fullname\n",
    "            \n",
    "            # Default date_joined to today's date\n",
    "            self.date_joined = dt.date.today()\n",
    "            # Set is_active to Trus initially\n",
    "            self.is_active = True\n",
    "            # Set an expiration date\n",
    "            self.free_expires = dt.date.today() + dt.timedelta(days = Member.free_days)\n",
    "            \n",
    "      # Methods for each instance create (instance methods)\n",
    "      \n",
    "      # A method to return a formatted string showing date joined\n",
    "      def show_datejoined(self):\n",
    "            return f\"{self.fullname} joined on {self.date_joined:%m/%d/%y}\"\n",
    "      \n",
    "      # A method to activate (True) or deactivate (False) account.\n",
    "      def activate(self, yesno):\n",
    "            ''' True for active, False to make inactive '''\n",
    "            self.is_active = yesno\n",
    "            \n",
    "      # Class methods follow @classmethod decorator and refer to cls rather\n",
    "      # than to self\n",
    "      @classmethod\n",
    "      def setfreedays(cls, days):\n",
    "            cls.free_days = days\n",
    "            \n",
    "      # Static methods. Generic function that doesn't affect an instance or the\n",
    "      # class as a whole\n",
    "      @staticmethod\n",
    "      def currenttime():\n",
    "            now = dt.datetime.now()\n",
    "            return f\"{now:%I:%M %p}\""
   ]
  },
  {
   "cell_type": "code",
   "execution_count": 3,
   "metadata": {},
   "outputs": [],
   "source": [
    "# Create an instance of the Member class named new_guy\n",
    "new_guy = Member('Rambo', 'Rocco Moe')"
   ]
  },
  {
   "cell_type": "code",
   "execution_count": 4,
   "metadata": {},
   "outputs": [
    {
     "name": "stdout",
     "output_type": "stream",
     "text": [
      "<__main__.Member object at 0x0000020D81CB8760>\n",
      "Rambo\n",
      "Rocco Moe\n",
      "<class '__main__.Member'>\n"
     ]
    }
   ],
   "source": [
    "# See what's in the instance, as well as its individual properties\n",
    "print(new_guy)\n",
    "print(new_guy.username)\n",
    "print(new_guy.fullname)\n",
    "print(type(new_guy))"
   ]
  },
  {
   "cell_type": "code",
   "execution_count": 5,
   "metadata": {},
   "outputs": [
    {
     "name": "stdout",
     "output_type": "stream",
     "text": [
      "Rocco Moe joined on 09/14/22\n"
     ]
    }
   ],
   "source": [
    "print(new_guy.show_datejoined())"
   ]
  },
  {
   "cell_type": "code",
   "execution_count": 6,
   "metadata": {},
   "outputs": [
    {
     "name": "stdout",
     "output_type": "stream",
     "text": [
      "True\n",
      "False\n"
     ]
    }
   ],
   "source": [
    "print(new_guy.is_active)\n",
    "new_guy.activate(False)\n",
    "print(new_guy.is_active)"
   ]
  },
  {
   "cell_type": "markdown",
   "metadata": {},
   "source": [
    "2 ways of calling a class method"
   ]
  },
  {
   "cell_type": "code",
   "execution_count": 13,
   "metadata": {},
   "outputs": [],
   "source": [
    "wilbur = Member('wblomgren', 'Wilbur Blomgren')"
   ]
  },
  {
   "cell_type": "code",
   "execution_count": 14,
   "metadata": {},
   "outputs": [
    {
     "name": "stdout",
     "output_type": "stream",
     "text": [
      "Wilbur Blomgren joined on 09/14/22\n"
     ]
    }
   ],
   "source": [
    "# first way\n",
    "print(wilbur.show_datejoined())"
   ]
  },
  {
   "cell_type": "code",
   "execution_count": 15,
   "metadata": {},
   "outputs": [
    {
     "name": "stdout",
     "output_type": "stream",
     "text": [
      "Wilbur Blomgren joined on 09/14/22\n"
     ]
    }
   ],
   "source": [
    "# second way - This ain't better or worse. It just makes your code\n",
    "# more readable\n",
    "print(Member.show_datejoined(wilbur))"
   ]
  },
  {
   "cell_type": "code",
   "execution_count": 16,
   "metadata": {},
   "outputs": [
    {
     "name": "stdout",
     "output_type": "stream",
     "text": [
      "2022-09-14\n",
      "2022-12-13\n"
     ]
    }
   ],
   "source": [
    "print(wilbur.date_joined)\n",
    "print(wilbur.free_expires)"
   ]
  },
  {
   "cell_type": "code",
   "execution_count": 18,
   "metadata": {},
   "outputs": [],
   "source": [
    "Member.setfreedays(30)"
   ]
  },
  {
   "cell_type": "code",
   "execution_count": 22,
   "metadata": {},
   "outputs": [
    {
     "name": "stdout",
     "output_type": "stream",
     "text": [
      "2022-09-14\n",
      "2022-12-13\n"
     ]
    }
   ],
   "source": [
    "wilbur = Member('wblomgren', 'Wilbur Blomgren')\n",
    "print(wilbur.date_joined)\n",
    "print(wilbur.free_expires)"
   ]
  },
  {
   "cell_type": "code",
   "execution_count": 24,
   "metadata": {},
   "outputs": [
    {
     "name": "stdout",
     "output_type": "stream",
     "text": [
      "09:27 PM\n"
     ]
    }
   ],
   "source": [
    "print(Member.currenttime())"
   ]
  },
  {
   "cell_type": "code",
   "execution_count": 156,
   "metadata": {},
   "outputs": [],
   "source": [
    "# There are 2 classes, a Node class and the linked list class\n",
    "\n",
    "\n",
    "class Node():\n",
    "      # initialize an instance where the set value of data is None\n",
    "      # It's data and next attribute are set to none at the initialization\n",
    "      # because there's no data yet and it points to nothing.\n",
    "      def __init__(self, data=None):\n",
    "            self.data = data\n",
    "            self.next = None\n",
    "        \n",
    "class LinkedList():\n",
    "      def __init__(self):\n",
    "            # it initializes with an empty node. Data and Next == None\n",
    "            self.head = Node()\n",
    "      \n",
    "      # adding a value and changing pointer\n",
    "      def append(self, new_data):\n",
    "            ''' Adding a new node to the end of the linked list '''\n",
    "            # the data is attached to a Node. Therefore, it's\n",
    "            # .data == new_data and .next is still None\n",
    "            new_node = Node(new_data)     # new node\n",
    "            # An empty Linkedlist will have this value == Node()\n",
    "            # with value and next == None\n",
    "            cur_node = self.head           # current node\n",
    "            \n",
    "            # iterate till you get to the last node where .next==None\n",
    "            while cur_node.next != None:\n",
    "                  # changing the pointer value to it's next node\n",
    "                  cur_node = cur_node.next\n",
    "            # making the last pointer point to our new node\n",
    "            cur_node.next = new_node\n",
    "            # otherwise make the new node the first node\n",
    "      \n",
    "      # method for displaying linked list\n",
    "      def display(self):\n",
    "            # print linked list in Python list format\n",
    "            elems = []        # creating empty to list to contain print values\n",
    "            cur_node = self.head\n",
    "            # iterate through is the list isn't empty\n",
    "            while cur_node.next != None:\n",
    "                  cur_node = cur_node.next\n",
    "                  elems.append(cur_node.data)\n",
    "            print(elems)\n",
    "            \n",
    "      # method for getting length of linked list\n",
    "      def length(self):\n",
    "            ''' Get length of linked list '''\n",
    "            cur_node = self.head    # starting at the first node\n",
    "            total = 0\n",
    "            # iterate to find Node where .next == None\n",
    "            while cur_node.next != None:\n",
    "                  # move to the next node\n",
    "                  cur_node = cur_node.next\n",
    "                  # increment the length counter\n",
    "                  total += 1\n",
    "            return total\n",
    "      \n",
    "      # method for getting value in position\n",
    "      def get_value(self, position):\n",
    "            \"\"\"Get an element from a particular position.\n",
    "            Assume the first position is \"0\".\n",
    "            Return \"None\" if position is not in the list.\"\"\"\n",
    "            \n",
    "            # verifying that position is valid\n",
    "            if position >= self.length() or position < 0:\n",
    "                  print(\"ERROR: 'position' is out of range\")\n",
    "                  return None\n",
    "            cur_idx = 0\n",
    "            cur_node = self.head # remember that this node is empty\n",
    "            \n",
    "            # while loop that breaks once it prints\n",
    "            while True:\n",
    "                  cur_node = cur_node.next \n",
    "                  if cur_idx == position:\n",
    "                        return cur_node.data\n",
    "                  cur_idx += 1\n",
    "                  \n",
    "            \n",
    "      # method for inserting a new element in to linked list\n",
    "      def insert(self, new_element, position):\n",
    "            '''Insert a new node at the given position.\n",
    "            Assume the first position is \"0\".\n",
    "            Inserting at position 3 means between index 2 and 3.'''\n",
    "            \n",
    "            # confirming index is valid\n",
    "            if position >= self.length() or position < 0:\n",
    "                  return self.append(new_element)\n",
    "            cur_node = self.head    # remember that this == Node()\n",
    "            prior_node = self.head\n",
    "            cur_idx = 0\n",
    "            \n",
    "            # break out of loop when operation is done\n",
    "            while True:\n",
    "                  # moving you cur_node to 'valid' node that has .data\n",
    "                  cur_node = cur_node.next\n",
    "                  if cur_idx == position:       # if reqd index is found\n",
    "                        new_node = Node(new_element)\n",
    "                        # create node element\n",
    "                        prior_node.next = new_node\n",
    "                        # the pointer for prior node points to new_node\n",
    "                        new_node.next = cur_node\n",
    "                        # pointer for new_node points to the current node\n",
    "                        return\n",
    "                  prior_node = cur_node\n",
    "                  cur_idx += 1\n",
    "                        \n",
    "    \n",
    "    \n",
    "      def delete(self, index):\n",
    "            \"\"\"Delete the first node with a given value.\"\"\"\n",
    "            if index >= self.length() or index<0:\n",
    "                  print(\"ERROR: 'Erase' Index out of range!\")\n",
    "                  return\n",
    "            cur_idx = 0\n",
    "            cur_node = self.head\n",
    "            while True:\n",
    "                  prior_node = cur_node\n",
    "                  cur_node = cur_node.next\n",
    "                  if cur_idx == index:\n",
    "                        prior_node.next = cur_node.next\n",
    "                        return\n",
    "                  cur_idx += 1\n",
    "            \n"
   ]
  },
  {
   "cell_type": "code",
   "execution_count": 157,
   "metadata": {},
   "outputs": [],
   "source": [
    "number = LinkedList()"
   ]
  },
  {
   "cell_type": "code",
   "execution_count": 158,
   "metadata": {},
   "outputs": [],
   "source": [
    "LinkedList.append(number,1)\n",
    "LinkedList.append(number,2)\n",
    "LinkedList.append(number,3)\n",
    "LinkedList.append(number,4)\n",
    "LinkedList.append(number,5)"
   ]
  },
  {
   "cell_type": "code",
   "execution_count": 159,
   "metadata": {},
   "outputs": [
    {
     "data": {
      "text/plain": [
       "5"
      ]
     },
     "execution_count": 159,
     "metadata": {},
     "output_type": "execute_result"
    }
   ],
   "source": [
    "LinkedList.length(number)"
   ]
  },
  {
   "cell_type": "code",
   "execution_count": 160,
   "metadata": {},
   "outputs": [
    {
     "data": {
      "text/plain": [
       "5"
      ]
     },
     "execution_count": 160,
     "metadata": {},
     "output_type": "execute_result"
    }
   ],
   "source": [
    "LinkedList.get_value(number,4)"
   ]
  },
  {
   "cell_type": "code",
   "execution_count": 161,
   "metadata": {},
   "outputs": [
    {
     "name": "stdout",
     "output_type": "stream",
     "text": [
      "[1, 2, 3, 4, 5]\n"
     ]
    }
   ],
   "source": [
    "LinkedList.display(number)"
   ]
  },
  {
   "cell_type": "code",
   "execution_count": 162,
   "metadata": {},
   "outputs": [
    {
     "name": "stdout",
     "output_type": "stream",
     "text": [
      "[1, 2, 3, 19, 4, 5]\n"
     ]
    }
   ],
   "source": [
    "LinkedList.insert(number, 19, 3)\n",
    "LinkedList.display(number)"
   ]
  },
  {
   "cell_type": "code",
   "execution_count": 128,
   "metadata": {},
   "outputs": [
    {
     "name": "stdout",
     "output_type": "stream",
     "text": [
      "[1, 2, 3, 4, 5]\n"
     ]
    }
   ],
   "source": [
    "LinkedList.delete(number, 3)\n",
    "LinkedList.display(number)"
   ]
  },
  {
   "cell_type": "code",
   "execution_count": 134,
   "metadata": {},
   "outputs": [
    {
     "data": {
      "text/plain": [
       "5"
      ]
     },
     "execution_count": 134,
     "metadata": {},
     "output_type": "execute_result"
    }
   ],
   "source": [
    "LinkedList.length(number)"
   ]
  },
  {
   "cell_type": "code",
   "execution_count": 133,
   "metadata": {},
   "outputs": [],
   "source": [
    "number.head.data"
   ]
  },
  {
   "cell_type": "code",
   "execution_count": 208,
   "metadata": {},
   "outputs": [
    {
     "name": "stdout",
     "output_type": "stream",
     "text": [
      "[1, 2, 3, 4, 5]\n",
      "LinkedList.delete_first(llst)\n",
      "5\n",
      "1\n",
      "[2, 3, 4, 5]\n"
     ]
    }
   ],
   "source": [
    "class Node():\n",
    "    def __init__(self, value=None):\n",
    "        self.value = value\n",
    "        self.next = None\n",
    "        \n",
    "class LinkedList():\n",
    "    def __init__(self):\n",
    "        self.head = Node()\n",
    "        \n",
    "    def append(self, new_element):\n",
    "        cur_node = self.head\n",
    "        new_node = Node(new_element)\n",
    "        while cur_node.next != None:\n",
    "            cur_node = cur_node.next\n",
    "        cur_node.next = new_node\n",
    "\n",
    "    def insert_first(self, new_element):\n",
    "        \"Insert new element as the head of the LinkedList\"\n",
    "        cur_node = self.head\n",
    "        new_node = Node(new_element)\n",
    "        if cur_node.next != None:\n",
    "            prior_node = cur_node\n",
    "            cur_node = cur_node.next\n",
    "            prior_node.next = new_node\n",
    "            new_node.next = cur_node\n",
    "            return\n",
    "        self.append(new_element)\n",
    "        \n",
    "    def length(self):\n",
    "        cur_node = self.head\n",
    "        total = 0\n",
    "        while cur_node.next != None:\n",
    "            cur_node = cur_node.next\n",
    "            total += 1\n",
    "        return total\n",
    "    \n",
    "    def display(self):\n",
    "        elems = []\n",
    "        cur_node = self.head\n",
    "        while cur_node.next != None:\n",
    "            cur_node = cur_node.next\n",
    "            elems.append(cur_node.value)\n",
    "        print(elems)\n",
    "        \n",
    "\n",
    "    def delete_first(self):\n",
    "        \"Delete the first (head) element in the LinkedList as return it\"\n",
    "        cur_node = self.head\n",
    "        if self.length() == 1:\n",
    "            cur_node.next = None\n",
    "            print(cur_node.value)\n",
    "            return\n",
    "        elif self.length() > 1:\n",
    "            prior_node = cur_node\n",
    "            cur_node = cur_node.next\n",
    "            prior_node.next = cur_node.next\n",
    "            print(cur_node.value)\n",
    "            return\n",
    "        else:\n",
    "            print(\"ERROR: No data in linked list to delete\")\n",
    "            \n",
    "llst = LinkedList()\n",
    "LinkedList.append(llst, 1)\n",
    "LinkedList.append(llst, 2)\n",
    "LinkedList.append(llst, 3)\n",
    "LinkedList.append(llst, 4)\n",
    "LinkedList.append(llst, 5)\n",
    "LinkedList.display(llst)\n",
    "print(\"LinkedList.delete_first(llst)\")\n",
    "print(LinkedList.length(llst))\n",
    "LinkedList.delete_first(llst)\n",
    "LinkedList.display(llst)"
   ]
  },
  {
   "cell_type": "code",
   "execution_count": 209,
   "metadata": {},
   "outputs": [
    {
     "name": "stdout",
     "output_type": "stream",
     "text": [
      "2\n"
     ]
    }
   ],
   "source": [
    "llst.delete_first()"
   ]
  },
  {
   "cell_type": "code",
   "execution_count": 210,
   "metadata": {},
   "outputs": [
    {
     "name": "stdout",
     "output_type": "stream",
     "text": [
      "[3, 4, 5]\n"
     ]
    }
   ],
   "source": [
    "llst.display()"
   ]
  },
  {
   "cell_type": "markdown",
   "metadata": {},
   "source": [
    "### Stacks and Queues"
   ]
  },
  {
   "cell_type": "code",
   "execution_count": 216,
   "metadata": {},
   "outputs": [],
   "source": [
    "class Stack():\n",
    "      def __init__(self):\n",
    "            self.ll = LinkedList()\n",
    "      \n",
    "      def push(self, new_element):\n",
    "            LinkedList.insert_first(self.ll, new_element)\n",
    "      \n",
    "      def pop(self):\n",
    "            LinkedList.delete_first(self.ll)\n",
    "            "
   ]
  },
  {
   "cell_type": "code",
   "execution_count": 217,
   "metadata": {},
   "outputs": [],
   "source": [
    "stack = Stack()"
   ]
  },
  {
   "cell_type": "code",
   "execution_count": 223,
   "metadata": {},
   "outputs": [],
   "source": [
    "stack.push(1)\n",
    "stack.push(2)\n",
    "stack.push(3)\n",
    "stack.push(4)"
   ]
  },
  {
   "cell_type": "code",
   "execution_count": 227,
   "metadata": {},
   "outputs": [
    {
     "name": "stdout",
     "output_type": "stream",
     "text": [
      "[3, 2, 1, 2, 1]\n"
     ]
    }
   ],
   "source": [
    "x = stack.ll.display()"
   ]
  },
  {
   "cell_type": "code",
   "execution_count": 225,
   "metadata": {},
   "outputs": [
    {
     "name": "stdout",
     "output_type": "stream",
     "text": [
      "4\n"
     ]
    }
   ],
   "source": [
    "stack.pop()"
   ]
  },
  {
   "cell_type": "code",
   "execution_count": 239,
   "metadata": {},
   "outputs": [],
   "source": [
    "x = [1,2,3,4]"
   ]
  },
  {
   "cell_type": "code",
   "execution_count": 240,
   "metadata": {},
   "outputs": [],
   "source": [
    "a = x.pop(0)"
   ]
  },
  {
   "cell_type": "code",
   "execution_count": 241,
   "metadata": {},
   "outputs": [
    {
     "data": {
      "text/plain": [
       "[2, 3, 4]"
      ]
     },
     "execution_count": 241,
     "metadata": {},
     "output_type": "execute_result"
    }
   ],
   "source": [
    "x"
   ]
  },
  {
   "cell_type": "code",
   "execution_count": null,
   "metadata": {},
   "outputs": [],
   "source": [
    "class Queue(object):\n",
    "    def __init__(self, head=None):\n",
    "        self.storage = [head]\n",
    "\n",
    "    def enqueue(self, new_element):\n",
    "        self.storage.append(new_element)\n",
    "\n",
    "    def peek(self):\n",
    "        return self.storage[0]\n",
    "\n",
    "    def dequeue(self):\n",
    "        return self.storage.pop(0)"
   ]
  },
  {
   "cell_type": "markdown",
   "metadata": {},
   "source": [
    "## Searching & Sorting\n",
    "### Binary Search\n",
    "Efficiency = O(`logN`)"
   ]
  },
  {
   "cell_type": "code",
   "execution_count": 57,
   "metadata": {},
   "outputs": [],
   "source": [
    "## Quiz\n",
    "\"\"\"You're going to write a binary search function.\n",
    "You should use an iterative approach - meaning\n",
    "using loops.\n",
    "Your function should take two inputs:\n",
    "a Python list to search through, and the value\n",
    "you're searching for.\n",
    "Assume the list only has distinct elements,\n",
    "meaning there are no repeated values, and \n",
    "elements are in a strictly increasing order.\n",
    "Return the index of value, or -1 if the value\n",
    "doesn't exist in the list.\"\"\"\n",
    "\n",
    "def binary_search(listData, value, p=False):\n",
    "      '''Perform binary search on a sorted list'''\n",
    "      # get min and max indexes of list\n",
    "      low = 0\n",
    "      high = len(listData) - 1 \n",
    "      \n",
    "      # iterate as long as the list isn't empty\n",
    "      while low <= high:\n",
    "            # show workings\n",
    "            if p:\n",
    "                  print(listData[low:(high+1)])\n",
    "            else:\n",
    "                  pass\n",
    "            # get mid position\n",
    "            mid = (low + high)//2  #floor division to round down to nearest whole number\n",
    "            # return index if value is in mid position\n",
    "            if listData[mid] == value:\n",
    "                  return mid\n",
    "            # raise the low index to be above present mid if `value` is greater \n",
    "            # than current mid value\n",
    "            elif listData[mid] < value:\n",
    "                  low = mid + 1\n",
    "            # lower the higher index to be below present mid if `value` is less \n",
    "            # than current mid value\n",
    "            else:\n",
    "                  high = mid - 1\n",
    "      # return -1 if `value` is not in list\n",
    "      return -1"
   ]
  },
  {
   "cell_type": "code",
   "execution_count": 58,
   "metadata": {},
   "outputs": [],
   "source": [
    "import numpy as np\n",
    "\n",
    "inputList = np.random.randint(9,100,20)\n",
    "inputList.sort()"
   ]
  },
  {
   "cell_type": "code",
   "execution_count": 59,
   "metadata": {},
   "outputs": [
    {
     "data": {
      "text/plain": [
       "array([12, 25, 27, 32, 35, 46, 47, 52, 60, 61, 61, 65, 68, 73, 77, 77, 82,\n",
       "       87, 93, 98])"
      ]
     },
     "execution_count": 59,
     "metadata": {},
     "output_type": "execute_result"
    }
   ],
   "source": [
    "inputList"
   ]
  },
  {
   "cell_type": "code",
   "execution_count": 60,
   "metadata": {},
   "outputs": [
    {
     "name": "stdout",
     "output_type": "stream",
     "text": [
      "[12 25 27 32 35 46 47 52 60 61 61 65 68 73 77 77 82 87 93 98]\n",
      "[61 65 68 73 77 77 82 87 93 98]\n",
      "[77 82 87 93 98]\n",
      "[93 98]\n",
      "[98]\n"
     ]
    },
    {
     "data": {
      "text/plain": [
       "-1"
      ]
     },
     "execution_count": 60,
     "metadata": {},
     "output_type": "execute_result"
    }
   ],
   "source": [
    "binary_search(inputList, 99, p=True)"
   ]
  },
  {
   "cell_type": "code",
   "execution_count": 61,
   "metadata": {},
   "outputs": [],
   "source": [
    "test_list = [1,3,9,11,15,19,29]\n",
    "test_val1 = 25\n",
    "test_val2 = 15"
   ]
  },
  {
   "cell_type": "code",
   "execution_count": 62,
   "metadata": {},
   "outputs": [
    {
     "data": {
      "text/plain": [
       "-1"
      ]
     },
     "execution_count": 62,
     "metadata": {},
     "output_type": "execute_result"
    }
   ],
   "source": [
    "binary_search(test_list,test_val1)"
   ]
  },
  {
   "cell_type": "code",
   "execution_count": null,
   "metadata": {},
   "outputs": [],
   "source": []
  }
 ],
 "metadata": {
  "kernelspec": {
   "display_name": "Python 3.9.7 ('base')",
   "language": "python",
   "name": "python3"
  },
  "language_info": {
   "codemirror_mode": {
    "name": "ipython",
    "version": 3
   },
   "file_extension": ".py",
   "mimetype": "text/x-python",
   "name": "python",
   "nbconvert_exporter": "python",
   "pygments_lexer": "ipython3",
   "version": "3.9.13"
  },
  "orig_nbformat": 4,
  "vscode": {
   "interpreter": {
    "hash": "1206a4f2d6f64ed28b08c3544e67299a5b762789ddcc45660f3f6eefedb1bf11"
   }
  }
 },
 "nbformat": 4,
 "nbformat_minor": 2
}
